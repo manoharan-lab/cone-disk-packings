{
 "cells": [
  {
   "cell_type": "markdown",
   "id": "c614ead4-f0e2-4979-aaee-293afde9da4f",
   "metadata": {},
   "source": [
    "# Code for generating simulation input files\n",
    "\n",
    "By Jessica H. Sun and Abigail Plummer\n",
    "\n",
    "Licensed under the terms of GNU GENERAL PUBLIC LICENSE by Free Software Foundation"
   ]
  },
  {
   "cell_type": "markdown",
   "id": "fc037b4b-f9a2-4eeb-ad4c-e0bb9ddf9b5f",
   "metadata": {},
   "source": [
    "Helper functions for generating run_dir_list.ipynb which contains a list of subfolder names that contain experiment parameters to run\n",
    "\n",
    "We already provided the input files, but you can use the following to generate arbitrary experiment parameter inputs.\n",
    "\n",
    "---\n",
    "1. Generate run_dir_list.npy\n",
    "\n",
    "2. Edit existing run_dir_list.npy\n",
    "\n",
    "3. Generate run_dir_list.npy for commensurate cylinders and cylinder_params_df.pkl\n",
    "---"
   ]
  },
  {
   "cell_type": "markdown",
   "id": "d29ed10b-7094-4511-ba02-45c277e098a5",
   "metadata": {},
   "source": [
    "1. Generate run_dir_list.npy"
   ]
  },
  {
   "cell_type": "code",
   "execution_count": null,
   "id": "5ff01707-ed67-484d-9e27-2f0614c1e73b",
   "metadata": {
    "tags": []
   },
   "outputs": [],
   "source": [
    "import numpy as np\n",
    "import pandas as pd"
   ]
  },
  {
   "cell_type": "code",
   "execution_count": null,
   "id": "e4c16e06-0d75-4c97-b4cb-f5da4b635474",
   "metadata": {
    "tags": []
   },
   "outputs": [],
   "source": [
    "def ctheta_to_alpha(cthetadeg): #ctheta is sector angle. alpha is half opening cone angle\n",
    "    # alpha=theta/2=arcsin(phi/(2pi)), theta=full cone angle, alpha=half cone angle, phi=sector angle\n",
    "    cthetarad=cthetadeg*np.pi/180\n",
    "    alpharad=np.arcsin(cthetarad/(2*np.pi))\n",
    "    alphadeg=alpharad*180/np.pi\n",
    "    return alphadeg\n",
    "def alpha_to_ctheta(alphadeg):\n",
    "    alpharad=alphadeg*np.pi/180\n",
    "    cthetarad=np.sin(alpharad)*(2*np.pi)\n",
    "    cthetadeg=cthetarad*180/np.pi\n",
    "    return cthetadeg\n",
    "def magic_cinit_list(cinit_min=5,cinit_max=12):\n",
    "    #for magic cylinders\n",
    "    magic_cinit_list=np.arange(0,cinit_max+10,np.sqrt(3))\n",
    "    magic_cinit_list=np.append(magic_cinit_list,np.arange(0,cinit_max+10,1))\n",
    "    magic_cinit_list=np.unique(magic_cinit_list)\n",
    "\n",
    "    #for magic cones - note that yinit changes with cone angle (i.e. low cone angles will initialize at very large yinit for a fixed circumference)\n",
    "    magic_yinit_list=np.arange(0,cinit_max+10,np.sqrt(3)/2)\n",
    "    magic_yinit_list=np.append(magic_yinit_list,np.arange(0,cinit_max+10,1))\n",
    "    magic_yinit_list=np.unique(magic_yinit_list)\n",
    "\n",
    "    #convert yinit_list to cinit_list for cthetadeg=60, since that's the magic cone angle that yinit concerns, then append to list.\n",
    "    magic_cinit_list=np.append(magic_cinit_list,magic_yinit_list*(60/180*np.pi))\n",
    "\n",
    "    #add additional cinit values to increase resolution\n",
    "    magic_cinit_list=np.append(magic_cinit_list,np.arange(cinit_min,cinit_max,0.5))\n",
    "    \n",
    "    #filter based on cinit range\n",
    "    magic_cinit_list=magic_cinit_list[np.where((magic_cinit_list<=cinit_max)&(magic_cinit_list>=cinit_min))]\n",
    "    magic_cinit_list=np.unique(magic_cinit_list)\n",
    "\n",
    "    if 5*np.sqrt(3) in magic_cinit_list: #ithetadeg=60 magic cylinder case\n",
    "        print('#ithetadeg=60 magic cylinder case included')\n",
    "    if 5 in magic_cinit_list: #ithetadeg=0 magic cylinder case\n",
    "        print('#ithetadeg=0 magic cylinder case included')\n",
    "    if 7*np.sqrt(3)/2*(60/180*np.pi) in magic_cinit_list: #ithetadeg=0 magic cone case\n",
    "        print('#ithetadeg=0 magic cone case included')\n",
    "    if 7*(60/180*np.pi) in magic_cinit_list: #ithetadeg=60 magic cone case\n",
    "        print('#ithetadeg=60 magic cone case included')\n",
    "    return magic_cinit_list"
   ]
  },
  {
   "cell_type": "markdown",
   "id": "f57d0642-941a-45a8-9839-e51a845b21f2",
   "metadata": {},
   "source": [
    "Modify the following code block with desired parameters."
   ]
  },
  {
   "cell_type": "code",
   "execution_count": null,
   "id": "64cd3899-db00-43ba-a2c2-9418f875edae",
   "metadata": {
    "tags": []
   },
   "outputs": [],
   "source": [
    "def generate_run_dir_list():\n",
    "    cthetadeg_list=np.linspace(0,30,7) #cylinders and cones\n",
    "    cinit_list=np.linspace(0,12,49)\n",
    "    # cinit_list=magic_cinit_list() #generate values that contain commensurate values\n",
    "    ithetadeg_list=np.linspace(59,60,1)\n",
    "    trials_list=np.arange(0,100,1)\n",
    "    Nmax_list=np.linspace(1000,1000,1)\n",
    "\n",
    "    print('\\ncthetadeg \\n',cthetadeg_list)\n",
    "    print('cinit \\n',cinit_list)\n",
    "    print('ithetadeg \\n',ithetadeg_list)\n",
    "    print('trials \\n',trials_list)\n",
    "    print('Nmax \\n',Nmax_list)\n",
    "\n",
    "    run_dir_list=[]\n",
    "    for trial in trials_list:\n",
    "        for cthetadeg in cthetadeg_list:\n",
    "            for cinit in cinit_list: #circumference to initialize seed at, equivalent to arc length. cinit=s=r*ctheta=yinit*ctheta\n",
    "                for ithetadeg in ithetadeg_list:\n",
    "                    for Nmax in Nmax_list: #won't be max packing for cylinders but should be sufficient >1deg\n",
    "                        run_dir = ['%s-%s_%s-%s_%s-%s_%s-%s_%s-%s' % \\\n",
    "                                  ('cthetadeg', str(cthetadeg), 'cinit', str(cinit),'ithetadeg', str(ithetadeg),'Nmax', str(Nmax),'trial', str(trial))] #_%s, str(rep)\n",
    "                        run_dir_list+=run_dir\n",
    "    run_dir_list=np.array(run_dir_list)\n",
    "    filename='run_dir_list_custom_'+str(np.min(trials_list))+'-'+str(np.max(trials_list))#+'_cylinders0-5cinit'\n",
    "    np.save(filename,run_dir_list)\n",
    "    print('runtime: ~'+str(int(((len(run_dir_list)*0.5)/60)/24))+' days')\n",
    "    print(filename)\n",
    "    return run_dir_list\n",
    "run_dir_list=generate_run_dir_list()"
   ]
  },
  {
   "cell_type": "markdown",
   "id": "2bd304ef-50df-4e94-aee5-efb0034483da",
   "metadata": {},
   "source": [
    "---\n",
    "2. Edit existing run_dir_list.npy"
   ]
  },
  {
   "cell_type": "code",
   "execution_count": null,
   "id": "e81578a2-6ac9-4263-8bd2-ba6acf8afbf9",
   "metadata": {
    "tags": []
   },
   "outputs": [],
   "source": [
    "def edit_run_dir_list():\n",
    "    edit_existing=np.load('/users/jessicasun/Documents/GitHub/cone-disk-packings/simulation/simulation_inputs/run_dir_list_022723_0-99.npy')\n",
    "\n",
    "    remaining_trials=np.array([14])\n",
    "    remaining_cthetadeg=np.array([5.0])\n",
    "    remaining_cinit=np.array([5.0])\n",
    "    remaining_ithetadeg=np.array([10.0])\n",
    "    \n",
    "    run_dir_list_remaining=[]\n",
    "    for i in edit_existing:\n",
    "        trial_num=int(i.split('-')[-1])\n",
    "        cthetadeg=float(i.split('_')[0].split('-')[1])\n",
    "        cinit=float(i.split('_')[1].split('-')[1])\n",
    "        ithetadeg=float(i.split('_')[2].split('-')[1])        \n",
    "        if trial_num in remaining_trials:\n",
    "            if cthetadeg in remaining_cthetadeg:\n",
    "                if cinit in remaining_cinit:\n",
    "                    if ithetadeg in remaining_ithetadeg:\n",
    "                        run_dir_list_remaining+=[i]    \n",
    "    np.save('run_dir_list_remaining',run_dir_list_remaining)            \n",
    "    return run_dir_list_remaining\n",
    "run_dir_list_remaining=edit_run_dir_list()"
   ]
  },
  {
   "cell_type": "markdown",
   "id": "434c18a7-0565-47bb-b599-d17e683d2b02",
   "metadata": {},
   "source": [
    "---\n",
    "3. Generate run_dir_list.npy for commensurate cylinders (using parastichy number conventions) and cylinder_params_df.pkl (not used as simulation input, but needed for analysis)"
   ]
  },
  {
   "cell_type": "code",
   "execution_count": null,
   "id": "27820296-a9cb-43fc-974e-6796d5601c1b",
   "metadata": {
    "tags": []
   },
   "outputs": [],
   "source": [
    "def get_cylinder_cinit(m,n,a): #find commensurate cylinder cinit for a given initial orientation\n",
    "    cinit=a*np.sqrt(m**2+n**2-(m*n))\n",
    "    return cinit\n",
    "def get_cylinder_ithetadeg(m,n):\n",
    "    mn_ratio=m/n\n",
    "    phi_dbeller=np.arctan((2/np.sqrt(3))*((mn_ratio)-(1/2))) #phi based on DA Beller, DR Nelson convention (angle made with vertical axis)\n",
    "    phi_dbeller_deg=phi_dbeller*180/np.pi\n",
    "    ithetadeg=(90-phi_dbeller_deg) #theta based on our convention, angle made with circumference\n",
    "    return phi_dbeller_deg,ithetadeg\n",
    "def get_cylinder_params(m,n,a): #characterize in terms of parastichy numbers\n",
    "    phi_dbeller_deg,ithetadeg=get_cylinder_ithetadeg(m,n)\n",
    "    cinit=get_cylinder_cinit(m,n,a)\n",
    "    mn_ratio=m/n\n",
    "    cylinder_params_df=pd.DataFrame([{'m':m,'n':n,'mn_ratio':mn_ratio,'phi_dbeller_deg':phi_dbeller_deg,'ithetadeg':ithetadeg,'a':a,'cinit':cinit}])\n",
    "    return cylinder_params_df"
   ]
  },
  {
   "cell_type": "code",
   "execution_count": null,
   "id": "4e50efda-40eb-48f4-b692-e0505ca47968",
   "metadata": {
    "tags": []
   },
   "outputs": [],
   "source": [
    "a_list=np.arange(1,11,1)\n",
    "cylinder_params_df_list=[]\n",
    "mn_list=[(1,1),(2,1),(3,2),(4,3),(5,4)]\n",
    "for mn in mn_list:\n",
    "    m,n=mn[0],mn[1]\n",
    "    for a in a_list:\n",
    "        cylinder_params_df=get_cylinder_params(m,n,a)\n",
    "        cylinder_params_df_list+=[cylinder_params_df]    \n",
    "cylinder_params_df=pd.concat(cylinder_params_df_list)\n",
    "cylinder_params_df=cylinder_params_df[cylinder_params_df['cinit']<=12] #from experience i know that simulations break down at high circumferences due to numerical error"
   ]
  },
  {
   "cell_type": "code",
   "execution_count": null,
   "id": "586764dd-5445-4b0e-ad58-e760bd45ddfb",
   "metadata": {
    "tags": []
   },
   "outputs": [],
   "source": [
    "cylinder_params_df"
   ]
  },
  {
   "cell_type": "code",
   "execution_count": null,
   "id": "470c9be9-e30a-475e-ad20-d39156ee256b",
   "metadata": {
    "tags": []
   },
   "outputs": [],
   "source": [
    "cylinder_params_df.to_pickle('cylinder_params_df.pkl')"
   ]
  },
  {
   "cell_type": "code",
   "execution_count": null,
   "id": "b9bfe689-a1c8-4f53-b3bd-f0ad98302eb5",
   "metadata": {
    "tags": []
   },
   "outputs": [],
   "source": [
    "def generate_cylinder_run_dir_list(cylinder_params_df):\n",
    "    cthetadeg_list=[0] #cylinders only\n",
    "    cinit_list=np.unique(np.array(cylinder_params_df['cinit']))\n",
    "\n",
    "    ithetadeg_list=np.unique(np.array(cylinder_params_df['ithetadeg']))\n",
    "    trials_list=np.arange(0,3,1)\n",
    "    Nmax_list=np.linspace(1000,1000,1)\n",
    "\n",
    "    print('\\ncthetadeg \\n',cthetadeg_list)\n",
    "    print('cinit \\n',cinit_list)\n",
    "    print('ithetadeg \\n',ithetadeg_list)\n",
    "    print('trials \\n',trials_list)\n",
    "    print('Nmax \\n',Nmax_list)\n",
    "\n",
    "    run_dir_list=[]\n",
    "    for trial in trials_list:\n",
    "        for cthetadeg in cthetadeg_list:\n",
    "            for cinit in cinit_list: #circumference to initialize seed at, equivalent to arc length. cinit=s=r*ctheta=yinit*ctheta\n",
    "                for ithetadeg in ithetadeg_list:\n",
    "                    for Nmax in Nmax_list: #won't be max packing for cylinders but should be sufficient >1deg\n",
    "                        run_dir = ['%s-%s_%s-%s_%s-%s_%s-%s_%s-%s' % \\\n",
    "                                  ('cthetadeg', str(cthetadeg), 'cinit', str(cinit),'ithetadeg', str(ithetadeg),'Nmax', str(Nmax),'trial', str(trial))] #_%s, str(rep)\n",
    "                        run_dir_list+=run_dir\n",
    "    run_dir_list=np.array(run_dir_list)\n",
    "    filename='custom_'+str(np.min(trials_list))+'-'+str(np.max(trials_list))+'cinit0-12'#+'_cylinders0-5cinit'\n",
    "    np.save(filename,run_dir_list)\n",
    "    print('runtime: ~'+str(int(((len(run_dir_list)*0.5)/60)/24))+' days')\n",
    "    print(filename)\n",
    "    return run_dir_list\n",
    "run_dir_list=generate_cylinder_run_dir_list(cylinder_params_df)"
   ]
  }
 ],
 "metadata": {
  "kernelspec": {
   "display_name": "Python 3 (ipykernel)",
   "language": "python",
   "name": "python3"
  },
  "language_info": {
   "codemirror_mode": {
    "name": "ipython",
    "version": 3
   },
   "file_extension": ".py",
   "mimetype": "text/x-python",
   "name": "python",
   "nbconvert_exporter": "python",
   "pygments_lexer": "ipython3",
   "version": "3.11.3"
  }
 },
 "nbformat": 4,
 "nbformat_minor": 5
}
