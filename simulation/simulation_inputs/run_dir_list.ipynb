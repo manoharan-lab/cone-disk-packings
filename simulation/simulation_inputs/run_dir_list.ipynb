{
 "cells": [
  {
   "cell_type": "markdown",
   "id": "c614ead4-f0e2-4979-aaee-293afde9da4f",
   "metadata": {},
   "source": [
    "Helper function for generating run_dir_list.ipynb which contains a list of subfolder names that contain experiment parameters to run\n",
    "\n",
    "No need to run this if you already have the relevant run_dir_list.npy and/or cylinder_params_df/pkl files provided, but you can use this to generate arbitrary experiment parameter lists.\n",
    "\n",
    "---\n",
    "Generate run_dir_list.npy\n",
    "\n",
    "Edit existing run_dir_list.npy\n",
    "\n",
    "Generate cylinder_params_df.pkl"
   ]
  },
  {
   "cell_type": "markdown",
   "id": "d29ed10b-7094-4511-ba02-45c277e098a5",
   "metadata": {},
   "source": [
    "1. Generate run_dir_list"
   ]
  },
  {
   "cell_type": "code",
   "execution_count": 1,
   "id": "5ff01707-ed67-484d-9e27-2f0614c1e73b",
   "metadata": {
    "tags": []
   },
   "outputs": [],
   "source": [
    "import numpy as np\n",
    "import pandas as pd\n",
    "def ctheta_to_alpha(cthetadeg): #ctheta is sector angle. alpha is half opening cone angle\n",
    "    # alpha=theta/2=arcsin(phi/(2pi)), theta=full cone angle, alpha=half cone angle, phi=sector angle\n",
    "    cthetarad=cthetadeg*np.pi/180\n",
    "    alpharad=np.arcsin(cthetarad/(2*np.pi))\n",
    "    alphadeg=alpharad*180/np.pi\n",
    "    return alphadeg\n",
    "def alpha_to_ctheta(alphadeg):\n",
    "    alpharad=alphadeg*np.pi/180\n",
    "    cthetarad=np.sin(alpharad)*(2*np.pi)\n",
    "    cthetadeg=cthetarad*180/np.pi\n",
    "    return cthetadeg"
   ]
  },
  {
   "cell_type": "code",
   "execution_count": 29,
   "id": "0dafaae7-6c37-4574-9c77-9772236467fa",
   "metadata": {},
   "outputs": [],
   "source": [
    "def magic_cinit_list(cinit_min=5,cinit_max=12):\n",
    "#     #cinit range\n",
    "#     cinit_min=5\n",
    "#     cinit_max=12\n",
    "\n",
    "    #for magic cylinders\n",
    "    magic_cinit_list=np.arange(0,cinit_max+10,np.sqrt(3))\n",
    "    magic_cinit_list=np.append(magic_cinit_list,np.arange(0,cinit_max+10,1))\n",
    "    magic_cinit_list=np.unique(magic_cinit_list)\n",
    "\n",
    "    #for magic cones - note that yinit changes with cone angle (i.e. low cone angles will initialize at very large yinit for a fixed circumference)\n",
    "    magic_yinit_list=np.arange(0,cinit_max+10,np.sqrt(3)/2)\n",
    "    magic_yinit_list=np.append(magic_yinit_list,np.arange(0,cinit_max+10,1))\n",
    "    magic_yinit_list=np.unique(magic_yinit_list)\n",
    "\n",
    "    #convert yinit_list to cinit_list for cthetadeg=60, since that's the magic cone angle that yinit concerns, then append to list.\n",
    "    magic_cinit_list=np.append(magic_cinit_list,magic_yinit_list*(60/180*np.pi))\n",
    "\n",
    "    #add additional cinit values to increase resolution\n",
    "    magic_cinit_list=np.append(magic_cinit_list,np.arange(cinit_min,cinit_max,0.5))\n",
    "    \n",
    "    #filter based on cinit range\n",
    "    magic_cinit_list=magic_cinit_list[np.where((magic_cinit_list<=cinit_max)&(magic_cinit_list>=cinit_min))]\n",
    "    magic_cinit_list=np.unique(magic_cinit_list)\n",
    "\n",
    "    if 5*np.sqrt(3) in magic_cinit_list: #ithetadeg=60 magic cylinder case\n",
    "        print('#ithetadeg=60 magic cylinder case included')\n",
    "    if 5 in magic_cinit_list: #ithetadeg=0 magic cylinder case\n",
    "        print('#ithetadeg=0 magic cylinder case included')\n",
    "    if 7*np.sqrt(3)/2*(60/180*np.pi) in magic_cinit_list: #ithetadeg=0 magic cone case\n",
    "        print('#ithetadeg=0 magic cone case included')\n",
    "    if 7*(60/180*np.pi) in magic_cinit_list: #ithetadeg=60 magic cone case\n",
    "        print('#ithetadeg=60 magic cone case included')\n",
    "    return magic_cinit_list"
   ]
  },
  {
   "cell_type": "code",
   "execution_count": 30,
   "id": "75511c74-edb4-4c02-ab05-57fc8cfe8050",
   "metadata": {},
   "outputs": [
    {
     "data": {
      "text/plain": [
       "array([0.        , 0.5       , 0.90689968, 1.        , 1.04719755,\n",
       "       1.5       , 1.73205081, 1.81379936, 2.        , 2.0943951 ,\n",
       "       2.5       , 2.72069905, 3.        , 3.14159265, 3.46410162,\n",
       "       3.5       , 3.62759873, 4.        , 4.1887902 , 4.5       ,\n",
       "       4.53449841])"
      ]
     },
     "execution_count": 30,
     "metadata": {},
     "output_type": "execute_result"
    }
   ],
   "source": [
    "magic_cinit_list(cinit_min=0,cinit_max=4.99)"
   ]
  },
  {
   "cell_type": "code",
   "execution_count": 42,
   "id": "64cd3899-db00-43ba-a2c2-9418f875edae",
   "metadata": {},
   "outputs": [
    {
     "name": "stdout",
     "output_type": "stream",
     "text": [
      "\n",
      "cthetadeg \n",
      " [ 0.  5. 10. 15. 20. 25. 30.]\n",
      "cinit \n",
      " [ 0.    0.25  0.5   0.75  1.    1.25  1.5   1.75  2.    2.25  2.5   2.75\n",
      "  3.    3.25  3.5   3.75  4.    4.25  4.5   4.75  5.    5.25  5.5   5.75\n",
      "  6.    6.25  6.5   6.75  7.    7.25  7.5   7.75  8.    8.25  8.5   8.75\n",
      "  9.    9.25  9.5   9.75 10.   10.25 10.5  10.75 11.   11.25 11.5  11.75\n",
      " 12.  ]\n",
      "ithetadeg \n",
      " [59.]\n",
      "trials \n",
      " [ 0  1  2  3  4  5  6  7  8  9 10 11 12 13 14 15 16 17 18 19 20 21 22 23\n",
      " 24 25 26 27 28 29 30 31 32 33 34 35 36 37 38 39 40 41 42 43 44 45 46 47\n",
      " 48 49 50 51 52 53 54 55 56 57 58 59 60 61 62 63 64 65 66 67 68 69 70 71\n",
      " 72 73 74 75 76 77 78 79 80 81 82 83 84 85 86 87 88 89 90 91 92 93 94 95\n",
      " 96 97 98 99]\n",
      "Nmax \n",
      " [1000.]\n",
      "runtime: ~11 days\n",
      "run_dir_list_022723_0-99\n"
     ]
    }
   ],
   "source": [
    "def generate_run_dir_list():\n",
    "    # cthetadeg_list=np.linspace(0,60,11)\n",
    "    # cinit_list=np.linspace(5,12,8)\n",
    "    # ithetadeg_list=np.linspace(0,30,4)\n",
    "    # trials_list=np.arange(0,50,1)\n",
    "    # Nmax_list=np.linspace(1000,1000,1)\n",
    "    cthetadeg_list=np.linspace(0,30,7) #cylinders and cones\n",
    "    # cthetadeg_list=[0] #cylinders only\n",
    "    # cinit_list=magic_cinit_list(cinit_min=0,cinit_max=12)\n",
    "    cinit_list=np.linspace(0,12,49)\n",
    "#     cinit_list=np.append(cinit_list,np.arange(5,12,np.sqrt(3)/2))\n",
    "\n",
    "#     ## magic cone needs to calculate cinit from integer values of __yinit__ (sectorRinit)!\n",
    "#     cthetadeg=60\n",
    "#     yinit_list=np.linspace(5,12,15)\n",
    "#     cinit_list=yinit_list*(cthetadeg*np.pi/180) #yinit=sectorRinit; sectorRinit*cthetarad=cinit\n",
    "\n",
    "    ithetadeg_list=np.linspace(59,60,1)\n",
    "    trials_list=np.arange(0,100,1)\n",
    "    Nmax_list=np.linspace(1000,1000,1)\n",
    "\n",
    "    print('\\ncthetadeg \\n',cthetadeg_list)\n",
    "    # print('thetadeg',ctheta_to_alpha(cthetadeg_list*np.pi/180)*2*180/np.pi)\n",
    "    print('cinit \\n',cinit_list)\n",
    "    print('ithetadeg \\n',ithetadeg_list)\n",
    "    print('trials \\n',trials_list)\n",
    "    print('Nmax \\n',Nmax_list)\n",
    "\n",
    "    run_dir_list=[]\n",
    "    for trial in trials_list:\n",
    "        for cthetadeg in cthetadeg_list:\n",
    "            for cinit in cinit_list: #circumference to initialize seed at, equivalent to arc length. cinit=s=r*ctheta=yinit*ctheta\n",
    "                for ithetadeg in ithetadeg_list:\n",
    "                    for Nmax in Nmax_list: #won't be max packing for cylinders but should be sufficient >1deg\n",
    "                        run_dir = ['%s-%s_%s-%s_%s-%s_%s-%s_%s-%s' % \\\n",
    "                                  ('cthetadeg', str(cthetadeg), 'cinit', str(cinit),'ithetadeg', str(ithetadeg),'Nmax', str(Nmax),'trial', str(trial))] #_%s, str(rep)\n",
    "                        run_dir_list+=run_dir\n",
    "    run_dir_list=np.array(run_dir_list)\n",
    "    filename='run_dir_list_022723_'+str(np.min(trials_list))+'-'+str(np.max(trials_list))#+'_cylinders0-5cinit'\n",
    "    np.save(filename,run_dir_list)\n",
    "    print('runtime: ~'+str(int(((len(run_dir_list)*0.5)/60)/24))+' days')\n",
    "    print(filename)\n",
    "    return run_dir_list\n",
    "run_dir_list=generate_run_dir_list()"
   ]
  },
  {
   "cell_type": "code",
   "execution_count": 43,
   "id": "c4374b70-0089-4509-a766-894757f021f8",
   "metadata": {},
   "outputs": [
    {
     "data": {
      "text/plain": [
       "34300"
      ]
     },
     "execution_count": 43,
     "metadata": {},
     "output_type": "execute_result"
    }
   ],
   "source": [
    "len(run_dir_list)"
   ]
  },
  {
   "cell_type": "code",
   "execution_count": 44,
   "id": "3abd824d-2e35-405d-9315-e641f248c75b",
   "metadata": {},
   "outputs": [
    {
     "data": {
      "text/plain": [
       "array(['cthetadeg-10.0_cinit-7.5_ithetadeg-59.0_Nmax-1000.0_trial-4',\n",
       "       'cthetadeg-10.0_cinit-7.75_ithetadeg-59.0_Nmax-1000.0_trial-4',\n",
       "       'cthetadeg-10.0_cinit-8.0_ithetadeg-59.0_Nmax-1000.0_trial-4', ...,\n",
       "       'cthetadeg-30.0_cinit-11.5_ithetadeg-59.0_Nmax-1000.0_trial-99',\n",
       "       'cthetadeg-30.0_cinit-11.75_ithetadeg-59.0_Nmax-1000.0_trial-99',\n",
       "       'cthetadeg-30.0_cinit-12.0_ithetadeg-59.0_Nmax-1000.0_trial-99'],\n",
       "      dtype='<U62')"
      ]
     },
     "execution_count": 44,
     "metadata": {},
     "output_type": "execute_result"
    }
   ],
   "source": [
    "run_dir_list[1500:]"
   ]
  },
  {
   "cell_type": "code",
   "execution_count": 47,
   "id": "d17f8af0-0d07-4ec9-bd36-858e5ec1672b",
   "metadata": {},
   "outputs": [
    {
     "data": {
      "text/plain": [
       "6.86"
      ]
     },
     "execution_count": 47,
     "metadata": {},
     "output_type": "execute_result"
    }
   ],
   "source": [
    "len(run_dir_list)/5000"
   ]
  },
  {
   "cell_type": "code",
   "execution_count": 46,
   "id": "bb4fb3b9-102a-498b-b04e-12efc771d247",
   "metadata": {},
   "outputs": [
    {
     "data": {
      "text/plain": [
       "69.71544715447155"
      ]
     },
     "execution_count": 46,
     "metadata": {},
     "output_type": "execute_result"
    }
   ],
   "source": [
    "len(run_dir_list)/492"
   ]
  },
  {
   "cell_type": "code",
   "execution_count": 28,
   "id": "9021ed87-d33a-4f78-b4a6-4e97b5ee9f31",
   "metadata": {},
   "outputs": [
    {
     "data": {
      "text/plain": [
       "'1 2 3 4 5 6 7 8 9 10 11 12 13 14 15 16 17 18 19 20 21 22 23 24 25 26 27 28 29 30 31 32 33 34 35 36 37 38 39 40 41 42 43 44 45 46 47 48 49 50 '"
      ]
     },
     "execution_count": 28,
     "metadata": {},
     "output_type": "execute_result"
    }
   ],
   "source": [
    "#list # of jobs if wish to run in batches i.e. on cluster (this will need to be manually specified in simulation file or system input\n",
    "job_list=''\n",
    "for item in np.arange(1,51,1).tolist():\n",
    "    job_list+=str(item)+' '\n",
    "job_list"
   ]
  },
  {
   "cell_type": "code",
   "execution_count": 29,
   "id": "25d57849-850e-4dc0-85f7-3b149cc550ce",
   "metadata": {},
   "outputs": [
    {
     "data": {
      "text/plain": [
       "'cinit-5.0'"
      ]
     },
     "execution_count": 29,
     "metadata": {},
     "output_type": "execute_result"
    }
   ],
   "source": [
    "'cthetadeg-5.0_cinit-5.0_ithetadeg-0.0_Nmax-1000.0_trial-14'.split('_')[1]"
   ]
  },
  {
   "cell_type": "code",
   "execution_count": 35,
   "id": "e81578a2-6ac9-4263-8bd2-ba6acf8afbf9",
   "metadata": {
    "tags": []
   },
   "outputs": [],
   "source": [
    "def edit_run_dir_list():\n",
    "    edit_existing=np.load('/Volumes/manoharan_lab/jessicasun/Simulations/022322 bennett simulation/run_dir_list_022322_0-99.npy')\n",
    "    \n",
    "    #13-25,37-61,74-86 remaining\n",
    "    #last time it took 4 jobs, running 7 days, to do around 50 trials.. (12 trials per job)\n",
    "#     remaining_trials=np.arange(13,25+1,1) #include edge trials, JUST in case\n",
    "#     remaining_trials=np.append(remaining_trials,np.arange(37,61+1,1))\n",
    "#     remaining_trials=np.append(remaining_trials,np.arange(74,86+1,1))\n",
    "\n",
    "    remaining_trials=np.array([14])\n",
    "    remaining_cthetadeg=np.array([5.0])\n",
    "    remaining_cinit=np.array([5.0])\n",
    "    remaining_ithetadeg=np.array([10.0])\n",
    "    \n",
    "    run_dir_list_remaining=[]\n",
    "    for i in edit_existing:\n",
    "        trial_num=int(i.split('-')[-1])\n",
    "        cthetadeg=float(i.split('_')[0].split('-')[1])\n",
    "        cinit=float(i.split('_')[1].split('-')[1])\n",
    "        ithetadeg=float(i.split('_')[2].split('-')[1])        \n",
    "        if trial_num in remaining_trials:\n",
    "            if cthetadeg in remaining_cthetadeg:\n",
    "                if cinit in remaining_cinit:\n",
    "                    if ithetadeg in remaining_ithetadeg:\n",
    "                        run_dir_list_remaining+=[i]    \n",
    "    np.save('run_dir_list_remaining',run_dir_list_remaining)            \n",
    "    return run_dir_list_remaining\n",
    "run_dir_list_remaining=edit_run_dir_list()"
   ]
  },
  {
   "cell_type": "code",
   "execution_count": 36,
   "id": "35b86466-5daa-4c29-935c-c5f86d7b61d6",
   "metadata": {},
   "outputs": [
    {
     "data": {
      "text/plain": [
       "['cthetadeg-5.0_cinit-5.0_ithetadeg-10.0_Nmax-1000.0_trial-14']"
      ]
     },
     "execution_count": 36,
     "metadata": {},
     "output_type": "execute_result"
    }
   ],
   "source": [
    "run_dir_list_remaining"
   ]
  },
  {
   "cell_type": "code",
   "execution_count": 33,
   "id": "b3757cc2-b662-4ac2-8b73-2c74bbadbc37",
   "metadata": {},
   "outputs": [
    {
     "data": {
      "text/plain": [
       "8701.875"
      ]
     },
     "execution_count": 33,
     "metadata": {},
     "output_type": "execute_result"
    }
   ],
   "source": [
    "len(run_dir_list_remaining)/8"
   ]
  },
  {
   "cell_type": "code",
   "execution_count": 28,
   "id": "c7800fd9-c5f5-4d1f-aa6d-c6079a914a33",
   "metadata": {},
   "outputs": [
    {
     "data": {
      "text/plain": [
       "69615"
      ]
     },
     "execution_count": 28,
     "metadata": {},
     "output_type": "execute_result"
    }
   ],
   "source": [
    "len(run_dir_list_remaining)"
   ]
  },
  {
   "cell_type": "code",
   "execution_count": 10,
   "id": "620e19dc-f278-4178-a18b-429aaf8bde77",
   "metadata": {},
   "outputs": [
    {
     "data": {
      "text/plain": [
       "13650"
      ]
     },
     "execution_count": 10,
     "metadata": {},
     "output_type": "execute_result"
    }
   ],
   "source": [
    "len(run_dir_list_remaining)"
   ]
  },
  {
   "cell_type": "code",
   "execution_count": 8,
   "id": "27820296-a9cb-43fc-974e-6796d5601c1b",
   "metadata": {},
   "outputs": [],
   "source": [
    "# 2023 followup to get general commensurate cylinder circumference and orientation\n",
    "\n",
    "def get_cylinder_cinit(m,n,a): #find commensurate cylinder cinit for a given initial orientation\n",
    "    cinit=a*np.sqrt(m**2+n**2-(m*n))\n",
    "    return cinit\n",
    "def get_cylinder_ithetadeg(m,n):\n",
    "    mn_ratio=m/n\n",
    "    phi_dbeller=np.arctan((2/np.sqrt(3))*((mn_ratio)-(1/2))) #phi based on DA Beller, DR Nelson convention (angle made with vertical axis)\n",
    "    phi_dbeller_deg=phi_dbeller*180/np.pi\n",
    "    ithetadeg=(90-phi_dbeller_deg) #theta based on our convention, angle made with circumference\n",
    "    return phi_dbeller_deg,ithetadeg\n",
    "def get_cylinder_params(m,n,a):\n",
    "    phi_dbeller_deg,ithetadeg=get_cylinder_ithetadeg(m,n)\n",
    "    cinit=get_cylinder_cinit(m,n,a)\n",
    "    mn_ratio=m/n\n",
    "    cylinder_params_df=pd.DataFrame([{'m':m,'n':n,'mn_ratio':mn_ratio,'phi_dbeller_deg':phi_dbeller_deg,'ithetadeg':ithetadeg,'a':a,'cinit':cinit}])\n",
    "    return cylinder_params_df"
   ]
  },
  {
   "cell_type": "code",
   "execution_count": 9,
   "id": "4e50efda-40eb-48f4-b692-e0505ca47968",
   "metadata": {},
   "outputs": [],
   "source": [
    "a_list=np.arange(1,11,1)\n",
    "cylinder_params_df_list=[]\n",
    "mn_list=[(1,1),(2,1),(3,2),(4,3),(5,4)]\n",
    "for mn in mn_list:\n",
    "    m,n=mn[0],mn[1]\n",
    "    for a in a_list:\n",
    "        cylinder_params_df=get_cylinder_params(m,n,a)\n",
    "        cylinder_params_df_list+=[cylinder_params_df]    \n",
    "cylinder_params_df=pd.concat(cylinder_params_df_list)\n",
    "cylinder_params_df=cylinder_params_df[cylinder_params_df['cinit']<=12] #from experience i know that simulations break down at high circumferences due to numerical error"
   ]
  },
  {
   "cell_type": "code",
   "execution_count": 10,
   "id": "586764dd-5445-4b0e-ad58-e760bd45ddfb",
   "metadata": {},
   "outputs": [
    {
     "data": {
      "text/html": [
       "<div>\n",
       "<style scoped>\n",
       "    .dataframe tbody tr th:only-of-type {\n",
       "        vertical-align: middle;\n",
       "    }\n",
       "\n",
       "    .dataframe tbody tr th {\n",
       "        vertical-align: top;\n",
       "    }\n",
       "\n",
       "    .dataframe thead th {\n",
       "        text-align: right;\n",
       "    }\n",
       "</style>\n",
       "<table border=\"1\" class=\"dataframe\">\n",
       "  <thead>\n",
       "    <tr style=\"text-align: right;\">\n",
       "      <th></th>\n",
       "      <th>m</th>\n",
       "      <th>n</th>\n",
       "      <th>mn_ratio</th>\n",
       "      <th>phi_dbeller_deg</th>\n",
       "      <th>ithetadeg</th>\n",
       "      <th>a</th>\n",
       "      <th>cinit</th>\n",
       "    </tr>\n",
       "  </thead>\n",
       "  <tbody>\n",
       "    <tr>\n",
       "      <th>0</th>\n",
       "      <td>1</td>\n",
       "      <td>1</td>\n",
       "      <td>1.000000</td>\n",
       "      <td>30.000000</td>\n",
       "      <td>60.000000</td>\n",
       "      <td>1</td>\n",
       "      <td>1.000000</td>\n",
       "    </tr>\n",
       "    <tr>\n",
       "      <th>0</th>\n",
       "      <td>1</td>\n",
       "      <td>1</td>\n",
       "      <td>1.000000</td>\n",
       "      <td>30.000000</td>\n",
       "      <td>60.000000</td>\n",
       "      <td>2</td>\n",
       "      <td>2.000000</td>\n",
       "    </tr>\n",
       "    <tr>\n",
       "      <th>0</th>\n",
       "      <td>1</td>\n",
       "      <td>1</td>\n",
       "      <td>1.000000</td>\n",
       "      <td>30.000000</td>\n",
       "      <td>60.000000</td>\n",
       "      <td>3</td>\n",
       "      <td>3.000000</td>\n",
       "    </tr>\n",
       "    <tr>\n",
       "      <th>0</th>\n",
       "      <td>1</td>\n",
       "      <td>1</td>\n",
       "      <td>1.000000</td>\n",
       "      <td>30.000000</td>\n",
       "      <td>60.000000</td>\n",
       "      <td>4</td>\n",
       "      <td>4.000000</td>\n",
       "    </tr>\n",
       "    <tr>\n",
       "      <th>0</th>\n",
       "      <td>1</td>\n",
       "      <td>1</td>\n",
       "      <td>1.000000</td>\n",
       "      <td>30.000000</td>\n",
       "      <td>60.000000</td>\n",
       "      <td>5</td>\n",
       "      <td>5.000000</td>\n",
       "    </tr>\n",
       "    <tr>\n",
       "      <th>0</th>\n",
       "      <td>1</td>\n",
       "      <td>1</td>\n",
       "      <td>1.000000</td>\n",
       "      <td>30.000000</td>\n",
       "      <td>60.000000</td>\n",
       "      <td>6</td>\n",
       "      <td>6.000000</td>\n",
       "    </tr>\n",
       "    <tr>\n",
       "      <th>0</th>\n",
       "      <td>1</td>\n",
       "      <td>1</td>\n",
       "      <td>1.000000</td>\n",
       "      <td>30.000000</td>\n",
       "      <td>60.000000</td>\n",
       "      <td>7</td>\n",
       "      <td>7.000000</td>\n",
       "    </tr>\n",
       "    <tr>\n",
       "      <th>0</th>\n",
       "      <td>1</td>\n",
       "      <td>1</td>\n",
       "      <td>1.000000</td>\n",
       "      <td>30.000000</td>\n",
       "      <td>60.000000</td>\n",
       "      <td>8</td>\n",
       "      <td>8.000000</td>\n",
       "    </tr>\n",
       "    <tr>\n",
       "      <th>0</th>\n",
       "      <td>1</td>\n",
       "      <td>1</td>\n",
       "      <td>1.000000</td>\n",
       "      <td>30.000000</td>\n",
       "      <td>60.000000</td>\n",
       "      <td>9</td>\n",
       "      <td>9.000000</td>\n",
       "    </tr>\n",
       "    <tr>\n",
       "      <th>0</th>\n",
       "      <td>1</td>\n",
       "      <td>1</td>\n",
       "      <td>1.000000</td>\n",
       "      <td>30.000000</td>\n",
       "      <td>60.000000</td>\n",
       "      <td>10</td>\n",
       "      <td>10.000000</td>\n",
       "    </tr>\n",
       "    <tr>\n",
       "      <th>0</th>\n",
       "      <td>2</td>\n",
       "      <td>1</td>\n",
       "      <td>2.000000</td>\n",
       "      <td>60.000000</td>\n",
       "      <td>30.000000</td>\n",
       "      <td>1</td>\n",
       "      <td>1.732051</td>\n",
       "    </tr>\n",
       "    <tr>\n",
       "      <th>0</th>\n",
       "      <td>2</td>\n",
       "      <td>1</td>\n",
       "      <td>2.000000</td>\n",
       "      <td>60.000000</td>\n",
       "      <td>30.000000</td>\n",
       "      <td>2</td>\n",
       "      <td>3.464102</td>\n",
       "    </tr>\n",
       "    <tr>\n",
       "      <th>0</th>\n",
       "      <td>2</td>\n",
       "      <td>1</td>\n",
       "      <td>2.000000</td>\n",
       "      <td>60.000000</td>\n",
       "      <td>30.000000</td>\n",
       "      <td>3</td>\n",
       "      <td>5.196152</td>\n",
       "    </tr>\n",
       "    <tr>\n",
       "      <th>0</th>\n",
       "      <td>2</td>\n",
       "      <td>1</td>\n",
       "      <td>2.000000</td>\n",
       "      <td>60.000000</td>\n",
       "      <td>30.000000</td>\n",
       "      <td>4</td>\n",
       "      <td>6.928203</td>\n",
       "    </tr>\n",
       "    <tr>\n",
       "      <th>0</th>\n",
       "      <td>2</td>\n",
       "      <td>1</td>\n",
       "      <td>2.000000</td>\n",
       "      <td>60.000000</td>\n",
       "      <td>30.000000</td>\n",
       "      <td>5</td>\n",
       "      <td>8.660254</td>\n",
       "    </tr>\n",
       "    <tr>\n",
       "      <th>0</th>\n",
       "      <td>2</td>\n",
       "      <td>1</td>\n",
       "      <td>2.000000</td>\n",
       "      <td>60.000000</td>\n",
       "      <td>30.000000</td>\n",
       "      <td>6</td>\n",
       "      <td>10.392305</td>\n",
       "    </tr>\n",
       "    <tr>\n",
       "      <th>0</th>\n",
       "      <td>3</td>\n",
       "      <td>2</td>\n",
       "      <td>1.500000</td>\n",
       "      <td>49.106605</td>\n",
       "      <td>40.893395</td>\n",
       "      <td>1</td>\n",
       "      <td>2.645751</td>\n",
       "    </tr>\n",
       "    <tr>\n",
       "      <th>0</th>\n",
       "      <td>3</td>\n",
       "      <td>2</td>\n",
       "      <td>1.500000</td>\n",
       "      <td>49.106605</td>\n",
       "      <td>40.893395</td>\n",
       "      <td>2</td>\n",
       "      <td>5.291503</td>\n",
       "    </tr>\n",
       "    <tr>\n",
       "      <th>0</th>\n",
       "      <td>3</td>\n",
       "      <td>2</td>\n",
       "      <td>1.500000</td>\n",
       "      <td>49.106605</td>\n",
       "      <td>40.893395</td>\n",
       "      <td>3</td>\n",
       "      <td>7.937254</td>\n",
       "    </tr>\n",
       "    <tr>\n",
       "      <th>0</th>\n",
       "      <td>3</td>\n",
       "      <td>2</td>\n",
       "      <td>1.500000</td>\n",
       "      <td>49.106605</td>\n",
       "      <td>40.893395</td>\n",
       "      <td>4</td>\n",
       "      <td>10.583005</td>\n",
       "    </tr>\n",
       "    <tr>\n",
       "      <th>0</th>\n",
       "      <td>4</td>\n",
       "      <td>3</td>\n",
       "      <td>1.333333</td>\n",
       "      <td>43.897886</td>\n",
       "      <td>46.102114</td>\n",
       "      <td>1</td>\n",
       "      <td>3.605551</td>\n",
       "    </tr>\n",
       "    <tr>\n",
       "      <th>0</th>\n",
       "      <td>4</td>\n",
       "      <td>3</td>\n",
       "      <td>1.333333</td>\n",
       "      <td>43.897886</td>\n",
       "      <td>46.102114</td>\n",
       "      <td>2</td>\n",
       "      <td>7.211103</td>\n",
       "    </tr>\n",
       "    <tr>\n",
       "      <th>0</th>\n",
       "      <td>4</td>\n",
       "      <td>3</td>\n",
       "      <td>1.333333</td>\n",
       "      <td>43.897886</td>\n",
       "      <td>46.102114</td>\n",
       "      <td>3</td>\n",
       "      <td>10.816654</td>\n",
       "    </tr>\n",
       "    <tr>\n",
       "      <th>0</th>\n",
       "      <td>5</td>\n",
       "      <td>4</td>\n",
       "      <td>1.250000</td>\n",
       "      <td>40.893395</td>\n",
       "      <td>49.106605</td>\n",
       "      <td>1</td>\n",
       "      <td>4.582576</td>\n",
       "    </tr>\n",
       "    <tr>\n",
       "      <th>0</th>\n",
       "      <td>5</td>\n",
       "      <td>4</td>\n",
       "      <td>1.250000</td>\n",
       "      <td>40.893395</td>\n",
       "      <td>49.106605</td>\n",
       "      <td>2</td>\n",
       "      <td>9.165151</td>\n",
       "    </tr>\n",
       "  </tbody>\n",
       "</table>\n",
       "</div>"
      ],
      "text/plain": [
       "   m  n  mn_ratio  phi_dbeller_deg  ithetadeg   a      cinit\n",
       "0  1  1  1.000000        30.000000  60.000000   1   1.000000\n",
       "0  1  1  1.000000        30.000000  60.000000   2   2.000000\n",
       "0  1  1  1.000000        30.000000  60.000000   3   3.000000\n",
       "0  1  1  1.000000        30.000000  60.000000   4   4.000000\n",
       "0  1  1  1.000000        30.000000  60.000000   5   5.000000\n",
       "0  1  1  1.000000        30.000000  60.000000   6   6.000000\n",
       "0  1  1  1.000000        30.000000  60.000000   7   7.000000\n",
       "0  1  1  1.000000        30.000000  60.000000   8   8.000000\n",
       "0  1  1  1.000000        30.000000  60.000000   9   9.000000\n",
       "0  1  1  1.000000        30.000000  60.000000  10  10.000000\n",
       "0  2  1  2.000000        60.000000  30.000000   1   1.732051\n",
       "0  2  1  2.000000        60.000000  30.000000   2   3.464102\n",
       "0  2  1  2.000000        60.000000  30.000000   3   5.196152\n",
       "0  2  1  2.000000        60.000000  30.000000   4   6.928203\n",
       "0  2  1  2.000000        60.000000  30.000000   5   8.660254\n",
       "0  2  1  2.000000        60.000000  30.000000   6  10.392305\n",
       "0  3  2  1.500000        49.106605  40.893395   1   2.645751\n",
       "0  3  2  1.500000        49.106605  40.893395   2   5.291503\n",
       "0  3  2  1.500000        49.106605  40.893395   3   7.937254\n",
       "0  3  2  1.500000        49.106605  40.893395   4  10.583005\n",
       "0  4  3  1.333333        43.897886  46.102114   1   3.605551\n",
       "0  4  3  1.333333        43.897886  46.102114   2   7.211103\n",
       "0  4  3  1.333333        43.897886  46.102114   3  10.816654\n",
       "0  5  4  1.250000        40.893395  49.106605   1   4.582576\n",
       "0  5  4  1.250000        40.893395  49.106605   2   9.165151"
      ]
     },
     "execution_count": 10,
     "metadata": {},
     "output_type": "execute_result"
    }
   ],
   "source": [
    "cylinder_params_df"
   ]
  },
  {
   "cell_type": "code",
   "execution_count": 129,
   "id": "470c9be9-e30a-475e-ad20-d39156ee256b",
   "metadata": {},
   "outputs": [],
   "source": [
    "cylinder_params_df.to_pickle('cylinder_params_df.pkl')"
   ]
  },
  {
   "cell_type": "code",
   "execution_count": 124,
   "id": "b9bfe689-a1c8-4f53-b3bd-f0ad98302eb5",
   "metadata": {},
   "outputs": [
    {
     "name": "stdout",
     "output_type": "stream",
     "text": [
      "\n",
      "cthetadeg \n",
      " [0]\n",
      "cinit \n",
      " [ 1.          1.73205081  2.          2.64575131  3.          3.46410162\n",
      "  3.60555128  4.          4.58257569  5.          5.19615242  5.29150262\n",
      "  6.          6.92820323  7.          7.21110255  7.93725393  8.\n",
      "  8.66025404  9.          9.16515139 10.         10.39230485 10.58300524\n",
      " 10.81665383]\n",
      "ithetadeg \n",
      " [30.         40.89339465 46.10211375 49.10660535 60.        ]\n",
      "trials \n",
      " [0 1 2]\n",
      "Nmax \n",
      " [1000.]\n",
      "runtime: ~0 days\n",
      "run_dir_list_022323_0-2cinit0-12\n"
     ]
    }
   ],
   "source": [
    "def generate_cylinder_run_dir_list(cylinder_params_df):\n",
    "    cthetadeg_list=[0] #cylinders only\n",
    "    cinit_list=np.unique(np.array(cylinder_params_df['cinit']))\n",
    "\n",
    "    ithetadeg_list=np.unique(np.array(cylinder_params_df['ithetadeg']))\n",
    "    trials_list=np.arange(0,3,1)\n",
    "    Nmax_list=np.linspace(1000,1000,1)\n",
    "\n",
    "    print('\\ncthetadeg \\n',cthetadeg_list)\n",
    "    print('cinit \\n',cinit_list)\n",
    "    print('ithetadeg \\n',ithetadeg_list)\n",
    "    print('trials \\n',trials_list)\n",
    "    print('Nmax \\n',Nmax_list)\n",
    "\n",
    "    run_dir_list=[]\n",
    "    for trial in trials_list:\n",
    "        for cthetadeg in cthetadeg_list:\n",
    "            for cinit in cinit_list: #circumference to initialize seed at, equivalent to arc length. cinit=s=r*ctheta=yinit*ctheta\n",
    "                for ithetadeg in ithetadeg_list:\n",
    "                    for Nmax in Nmax_list: #won't be max packing for cylinders but should be sufficient >1deg\n",
    "                        run_dir = ['%s-%s_%s-%s_%s-%s_%s-%s_%s-%s' % \\\n",
    "                                  ('cthetadeg', str(cthetadeg), 'cinit', str(cinit),'ithetadeg', str(ithetadeg),'Nmax', str(Nmax),'trial', str(trial))] #_%s, str(rep)\n",
    "                        run_dir_list+=run_dir\n",
    "    run_dir_list=np.array(run_dir_list)\n",
    "    filename='run_dir_list_022323_'+str(np.min(trials_list))+'-'+str(np.max(trials_list))+'cinit0-12'#+'_cylinders0-5cinit'\n",
    "    np.save(filename,run_dir_list)\n",
    "    print('runtime: ~'+str(int(((len(run_dir_list)*0.5)/60)/24))+' days')\n",
    "    print(filename)\n",
    "    return run_dir_list\n",
    "run_dir_list=generate_cylinder_run_dir_list(cylinder_params_df)"
   ]
  },
  {
   "cell_type": "code",
   "execution_count": 125,
   "id": "251d2c11-57fa-4f66-8d77-bd65e17f5c92",
   "metadata": {},
   "outputs": [
    {
     "data": {
      "text/plain": [
       "0.7621951219512195"
      ]
     },
     "execution_count": 125,
     "metadata": {},
     "output_type": "execute_result"
    }
   ],
   "source": [
    "len(run_dir_list)/492"
   ]
  },
  {
   "cell_type": "code",
   "execution_count": null,
   "id": "d37107d6-65ad-4efa-952e-faaf4713687e",
   "metadata": {},
   "outputs": [],
   "source": []
  }
 ],
 "metadata": {
  "kernelspec": {
   "display_name": "Python 3 (ipykernel)",
   "language": "python",
   "name": "python3"
  },
  "language_info": {
   "codemirror_mode": {
    "name": "ipython",
    "version": 3
   },
   "file_extension": ".py",
   "mimetype": "text/x-python",
   "name": "python",
   "nbconvert_exporter": "python",
   "pygments_lexer": "ipython3",
   "version": "3.11.3"
  }
 },
 "nbformat": 4,
 "nbformat_minor": 5
}
